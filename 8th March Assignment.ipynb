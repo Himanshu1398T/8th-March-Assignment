{
 "cells": [
  {
   "cell_type": "markdown",
   "id": "4775920f",
   "metadata": {},
   "source": [
    "### Q1. What is the Probability density function?\n",
    "\n",
    "#### Ans:"
   ]
  },
  {
   "cell_type": "markdown",
   "id": "08ae8a66",
   "metadata": {},
   "source": [
    "The Probability Density Function (PDF) is a concept used in statistics to describe the probability distribution of a continuous random variable. It defines the likelihood of observing different values within a given range of the variable.\n",
    "\n",
    "The PDF can be graphically represented as a curve, and the area under the curve between two values represents the probability of the variable falling within that range.\n",
    "\n",
    "The PDF is often used in conjunction with other concepts such as the Cumulative Distribution Function (CDF) and probability calculations. It provides important information about the shape, central tendency, and dispersion of a continuous random variable."
   ]
  },
  {
   "cell_type": "markdown",
   "id": "bcfed1b9",
   "metadata": {},
   "source": [
    "### Q2. What are the types of Probability distribution?\n",
    "\n",
    "#### Ans:"
   ]
  },
  {
   "cell_type": "markdown",
   "id": "aa189cfa",
   "metadata": {},
   "source": [
    "There are several types of probability distributions, each with its own characteristics and applications.\n",
    "\n",
    "1. Uniform Distribution: The uniform distribution assigns equal probability to all outcomes within a specified range. It is characterized by a constant probability density function.\n",
    "\n",
    "2. Normal Distribution: The normal distribution, also known as the Gaussian distribution, is one of the most widely used distributions. It is symmetric and bell-shaped, with a well-defined mean and standard deviation. Many natural phenomena follow this distribution, and it is central to statistical inference.\n",
    "\n",
    "3. Binomial Distribution: The binomial distribution models the number of successes in a fixed number of independent Bernoulli trials. It is characterized by two parameters: the number of trials and the probability of success in each trial.\n",
    "\n",
    "4. Poisson Distribution: The Poisson distribution models the number of events occurring in a fixed interval of time or space. It is often used to describe rare events that occur randomly but at a constant average rate.\n",
    "\n",
    "5. Exponential Distribution: The exponential distribution models the time between events occurring in a Poisson process. It is commonly used to represent continuous random variables with a constant rate of occurrence."
   ]
  },
  {
   "cell_type": "markdown",
   "id": "be70ebfd",
   "metadata": {},
   "source": [
    "### Q3. Write a Python function to calculate the probability density function of a normal distribution with given mean and standard deviation at a given point.\n",
    "\n",
    "#### Ans:"
   ]
  },
  {
   "cell_type": "code",
   "execution_count": 1,
   "id": "4546e34d",
   "metadata": {},
   "outputs": [
    {
     "name": "stdout",
     "output_type": "stream",
     "text": [
      "The PDF at 1.5 is: 0.12951759566589174\n"
     ]
    }
   ],
   "source": [
    "import math\n",
    "\n",
    "def normal_pdf(x, mean, std_dev):\n",
    "    coefficient = 1 / (std_dev * math.sqrt(2 * math.pi))\n",
    "    exponent = -0.5 * ((x - mean) / std_dev) ** 2\n",
    "    pdf = coefficient * math.exp(exponent)\n",
    "    return pdf\n",
    "\n",
    "mean = 0\n",
    "std_dev = 1\n",
    "point = 1.5\n",
    "pdf_value = normal_pdf(point, mean, std_dev)\n",
    "print(f\"The PDF at {point} is: {pdf_value}\")"
   ]
  },
  {
   "cell_type": "markdown",
   "id": "5f0e7c3b",
   "metadata": {},
   "source": [
    "### Q4. What are the properties of Binomial distribution? Give two examples of events where binomial distribution can be applied.\n",
    "\n",
    "#### Ans:"
   ]
  },
  {
   "cell_type": "markdown",
   "id": "46e1aac2",
   "metadata": {},
   "source": [
    "The binomial distribution has the following properties:\n",
    "\n",
    "1. Fixed Number of Trials: The binomial distribution models the number of successes in a fixed number of independent Bernoulli trials.\n",
    "\n",
    "2. Two Possible Outcomes: Each trial in the binomial distribution can have only two possible outcomes: success (usually denoted as \"1\") or failure (usually denoted as \"0\").\n",
    "\n",
    "3. Independent Trials: The trials in a binomial distribution are assumed to be independent, meaning the outcome of one trial does not affect the outcome of any other trial.\n",
    "\n",
    "4. Constant Probability of Success: The probability of success (denoted as \"p\") remains constant for each trial.\n",
    "\n",
    "5. Discrete Distribution: The binomial distribution is a discrete probability distribution, meaning it only applies to a finite set of possible values.\n",
    "\n",
    "***\n",
    "Examples of events where the binomial distribution can be applied include:\n",
    "\n",
    "1. Coin Flips: Consider a scenario where we are flipping a fair coin multiple times and counting the number of heads obtained. Each flip can be considered a Bernoulli trial, with success (heads) and failure (tails) as the two possible outcomes. The number of heads in a fixed number of coin flips follows a binomial distribution.\n",
    "\n",
    "2. Manufacturing Quality Control: Suppose a factory produces a large number of products, and each product can be classified as either defective or non-defective. A quality control inspector randomly selects a sample of products and determines whether they are defective or not. The number of defective products in the sample can be modeled using a binomial distribution, where each product inspection is an independent Bernoulli trial with a constant probability of a defective outcome."
   ]
  },
  {
   "cell_type": "markdown",
   "id": "42f47f23",
   "metadata": {},
   "source": [
    "### Q5. Generate a random sample of size 1000 from a binomial distribution with probability of success 0.4 and plot a histogram of the results using matplotlib.\n",
    "\n",
    "#### Ans:"
   ]
  },
  {
   "cell_type": "code",
   "execution_count": 2,
   "id": "ca0e125e",
   "metadata": {},
   "outputs": [
    {
     "data": {
      "image/png": "[encoded data removed]",
      "text/plain": [
       "<Figure size 640x480 with 1 Axes>"
      ]
     },
     "metadata": {},
     "output_type": "display_data"
    }
   ],
   "source": [
    "import numpy as np\n",
    "import matplotlib.pyplot as plt\n",
    "\n",
    "# Generate the random sample\n",
    "sample_size = 1000\n",
    "p = 0.4\n",
    "sample = np.random.binomial(n=1, p=p, size=sample_size)\n",
    "\n",
    "# Plotting the histogram\n",
    "plt.hist(sample, bins=2, edgecolor='black')\n",
    "plt.xlabel('Success (1) or Failure (0)')\n",
    "plt.ylabel('Frequency')\n",
    "plt.title('Binomial Distribution Sample')\n",
    "plt.xticks([0, 1])\n",
    "plt.show()"
   ]
  },
  {
   "cell_type": "markdown",
   "id": "75cd5ebb",
   "metadata": {},
   "source": [
    "### Q6. Write a Python function to calculate the cumulative distribution function of a Poisson distribution with given mean at a given point.\n",
    "\n",
    "#### Ans:"
   ]
  },
  {
   "cell_type": "code",
   "execution_count": 3,
   "id": "9c4700bd",
   "metadata": {},
   "outputs": [
    {
     "name": "stdout",
     "output_type": "stream",
     "text": [
      "CDF at k = 2 : 0.3208471988621341\n"
     ]
    }
   ],
   "source": [
    "import math\n",
    "\n",
    "def poisson_cdf(k, mean):\n",
    "    cdf = 0.0\n",
    "    for i in range(k + 1):\n",
    "        cdf += math.exp(-mean) * (mean ** i) / math.factorial(i)\n",
    "    return cdf\n",
    "\n",
    "mean = 3.5\n",
    "k = 2\n",
    "\n",
    "cdf_value = poisson_cdf(k, mean)\n",
    "print(\"CDF at k =\", k, \":\", cdf_value)\n"
   ]
  },
  {
   "cell_type": "markdown",
   "id": "4d321973",
   "metadata": {},
   "source": [
    "### Q7. How Binomial distribution different from Poisson distribution?\n",
    "\n",
    "#### Ans:"
   ]
  },
  {
   "cell_type": "markdown",
   "id": "eb6a7cbb",
   "metadata": {},
   "source": [
    "Number of Trials:\n",
    "\n",
    "    Binomial Distribution: The binomial distribution is used when the number of trials is fixed and known in advance.\n",
    "    \n",
    "    Poisson Distribution: The Poisson distribution is used when the number of trials is not fixed and tends to be large or infinite.\n",
    "\n",
    "Nature of Trials:\n",
    "\n",
    "    Binomial Distribution: Each trial in the binomial distribution has two possible outcomes: success or failure. The probability of success remains constant across all trials.\n",
    "    \n",
    "    Poisson Distribution: The Poisson distribution models the occurrence of rare events in continuous time or space. The events are independent and occur randomly, with a constant average rate.\n",
    "\n",
    "Probability of Success:\n",
    "\n",
    "    Binomial Distribution: In the binomial distribution, the probability of success (denoted as \"p\") remains constant for each trial.\n",
    "\n",
    "    Poisson Distribution: The Poisson distribution does not explicitly involve a fixed probability of success. Instead, it is characterized by a single parameter, λ (lambda), representing the average rate of event occurrence.\n",
    "\n",
    "Distribution Shape:\n",
    "\n",
    "    Binomial Distribution: The shape of the binomial distribution is generally symmetric or slightly skewed, depending on the values of the parameters.\n",
    "    \n",
    "    Poisson Distribution: The Poisson distribution is often right-skewed, with a longer tail on the right side.\n",
    "\n",
    "Assumptions:\n",
    "\n",
    "    Binomial Distribution: The binomial distribution assumes that each trial is independent of the others and has the same probability of success.\n",
    "    \n",
    "    Poisson Distribution: The Poisson distribution assumes that events occur independently and at a constant average rate.\n",
    "\n",
    "Applications:\n",
    "\n",
    "    Binomial Distribution: It is commonly used in scenarios where there are a fixed number of independent trials, such as coin flips, product defects, or survey responses with binary outcomes.\n",
    "   \n",
    "    Poisson Distribution: It is applied in situations where the occurrence of events is rare and random, such as modeling the number of customer arrivals, accidents in a given time period, or occurrences of natural disasters."
   ]
  },
  {
   "cell_type": "markdown",
   "id": "c6a561ed",
   "metadata": {},
   "source": [
    "### Q8. Generate a random sample of size 1000 from a Poisson distribution with mean 5 and calculate the sample mean and variance.\n",
    "\n",
    "#### Ans:"
   ]
  },
  {
   "cell_type": "code",
   "execution_count": 4,
   "id": "cbe6421b",
   "metadata": {},
   "outputs": [
    {
     "name": "stdout",
     "output_type": "stream",
     "text": [
      "Sample Mean: 5.033\n",
      "Sample Variance: 5.2892002002002005\n"
     ]
    }
   ],
   "source": [
    "import numpy as np\n",
    "\n",
    "# Generate the random sample\n",
    "sample_size = 1000\n",
    "mean = 5\n",
    "sample = np.random.poisson(mean, size=sample_size)\n",
    "\n",
    "# Calculate the sample mean and variance\n",
    "sample_mean = np.mean(sample)\n",
    "sample_variance = np.var(sample, ddof=1)\n",
    "\n",
    "print(\"Sample Mean:\", sample_mean)\n",
    "print(\"Sample Variance:\", sample_variance)\n"
   ]
  },
  {
   "cell_type": "markdown",
   "id": "6145947a",
   "metadata": {},
   "source": [
    "### Q9. How mean and variance are related in Binomial distribution and Poisson distribution?\n",
    "\n",
    "#### Ans:"
   ]
  },
  {
   "cell_type": "markdown",
   "id": "fde00151",
   "metadata": {},
   "source": [
    "Binomial Distribution:\n",
    "In a binomial distribution, the mean and variance are directly related by the formula:\n",
    "Variance = n * p * (1 - p),\n",
    "where 'n' is the number of trials and 'p' is the probability of success in each trial.\n",
    "\n",
    "The mean of a binomial distribution is given by:\n",
    "Mean = n * p.\n",
    "\n",
    "From this relationship, we can observe that the variance increases as the product of 'n' and 'p' increases. If 'p' is close to 0 or 1, the variance is generally higher, indicating more dispersion in the distribution. On the other hand, if 'p' is close to 0.5, the variance is lower, indicating less dispersion.\n",
    "\n",
    "Poisson Distribution:\n",
    "In a Poisson distribution, the mean and variance are equal to each other, and they are both denoted by the parameter λ (lambda), which represents the average rate of event occurrence.\n",
    "\n",
    "The mean of a Poisson distribution is given by:\n",
    "Mean = Variance = λ.\n",
    "\n",
    "In a Poisson distribution, the variance is not influenced by any additional parameters or probabilities like in the binomial distribution. The variance is solely determined by the mean (λ). The Poisson distribution assumes that the variance equals the mean, which implies that the spread of the distribution is determined solely by the average rate of event occurrence."
   ]
  },
  {
   "cell_type": "markdown",
   "id": "6706611a",
   "metadata": {},
   "source": [
    "### Q10. In normal distribution with respect to mean position, where does the least frequent data appear?\n",
    "\n",
    "#### Ans:"
   ]
  },
  {
   "cell_type": "markdown",
   "id": "401e28a1",
   "metadata": {},
   "source": [
    "In a normal distribution, the least frequent data appears in the tails of the distribution, which are the areas farther away from the mean.\n",
    "\n",
    "A normal distribution is symmetric, meaning the data is evenly distributed on both sides of the mean. The peak of the distribution occurs at the mean, and the frequency of data decreases as you move away from the mean in both directions.\n",
    "\n",
    "Therefore, the least frequent data points are found in the extreme ends or tails of the distribution, farthest away from the mean. These data points are considered outliers or rare occurrences in a normal distribution."
   ]
  }
 ],
 "metadata": {
  "kernelspec": {
   "display_name": "Python 3 (ipykernel)",
   "language": "python",
   "name": "python3"
  },
  "language_info": {
   "codemirror_mode": {
    "name": "ipython",
    "version": 3
   },
   "file_extension": ".py",
   "mimetype": "text/x-python",
   "name": "python",
   "nbconvert_exporter": "python",
   "pygments_lexer": "ipython3",
   "version": "3.9.13"
  }
 },
 "nbformat": 4,
 "nbformat_minor": 5
}
